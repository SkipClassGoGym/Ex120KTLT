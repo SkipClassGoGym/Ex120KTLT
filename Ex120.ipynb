{
 "cells": [
  {
   "cell_type": "code",
   "execution_count": 6,
   "metadata": {},
   "outputs": [
    {
     "name": "stdout",
     "output_type": "stream",
     "text": [
      "Matrix A:\n",
      "[[-53 -93 -33]\n",
      " [ 69  26  94]\n",
      " [ 59 -59 -84]]\n",
      "\n",
      "Determinant of A: -1048026.9999999988\n",
      "\n",
      "Inverse matrix of A:\n",
      "[[-0.00320793  0.00559623  0.00752271]\n",
      " [-0.01082224 -0.00610576 -0.00258104]\n",
      " [ 0.00534814  0.00821925 -0.00480808]]\n"
     ]
    }
   ],
   "source": [
    "import numpy as np\n",
    "\n",
    "# Tạo ma trận ngẫu nhiên với giá trị từ -100 đến 100, kích thước N x M\n",
    "N, M = 3, 3  # Có thể thay đổi giá trị này\n",
    "a = np.random.randint(-100, 101, (N, M))\n",
    "\n",
    "print(\"Matrix A:\")\n",
    "print(a)\n",
    "\n",
    "# (1) Tính định thức của ma trận\n",
    "if N == M:  # Chỉ tính định thức khi ma trận là vuông\n",
    "    determinant = np.linalg.det(a)\n",
    "    print(\"\\nDeterminant of A:\", determinant)\n",
    "else:\n",
    "    print(\"\\nCannot calculate determinant because the matrix is not square.\")\n",
    "\n",
    "# (2) Tìm ma trận nghịch đảo\n",
    "if N == M and np.linalg.det(a) != 0:  # Điều kiện để tồn tại ma trận nghịch đảo\n",
    "    inverse_matrix = np.linalg.inv(a)\n",
    "    print(\"\\nInverse matrix of A:\")\n",
    "    print(inverse_matrix)\n",
    "else:\n",
    "    print(\"\\nMatrix A is not invertible.\")"
   ]
  },
  {
   "cell_type": "code",
   "execution_count": 7,
   "metadata": {},
   "outputs": [
    {
     "name": "stdout",
     "output_type": "stream",
     "text": [
      "\n",
      "Matrix sorted by row:\n",
      "[[-93 -53 -33]\n",
      " [ 26  69  94]\n",
      " [-84 -59  59]]\n",
      "\n",
      "Matrix sorted by column:\n",
      "[[-53 -93 -84]\n",
      " [ 59 -59 -33]\n",
      " [ 69  26  94]]\n"
     ]
    }
   ],
   "source": [
    "# (3) Sắp xếp ma trận theo hàng\n",
    "a_sorted_rows = np.sort(a, axis=1)\n",
    "print(\"\\nMatrix sorted by row:\")\n",
    "print(a_sorted_rows)\n",
    "\n",
    "# (4) Sắp xếp ma trận theo cột\n",
    "a_sorted_columns = np.sort(a, axis=0)\n",
    "print(\"\\nMatrix sorted by column:\")\n",
    "print(a_sorted_columns)"
   ]
  },
  {
   "cell_type": "code",
   "execution_count": 8,
   "metadata": {},
   "outputs": [
    {
     "name": "stdout",
     "output_type": "stream",
     "text": [
      "\n",
      "Matrix sorted by row mean:\n",
      "[[-53 -93 -33]\n",
      " [ 59 -59 -84]\n",
      " [ 69  26  94]]\n",
      "\n",
      "Updated Matrix A:\n",
      "[[-53 -93  45]\n",
      " [ 69  26  94]\n",
      " [ 59 -59 -84]]\n"
     ]
    }
   ],
   "source": [
    "# (5) Sắp xếp ma trận theo giá trị trung bình mỗi hàng\n",
    "row_means = np.mean(a, axis=1)\n",
    "sorted_indices = np.argsort(row_means)\n",
    "a_sorted_by_mean = a[sorted_indices]\n",
    "print(\"\\nMatrix sorted by row mean:\")\n",
    "print(a_sorted_by_mean)\n",
    "\n",
    "# (6) Thay đổi giá trị của một phần tử trong ma trận\n",
    "row_index = int(input(\"\\nEnter row index to change: \"))\n",
    "col_index = int(input(\"Enter column index to change: \"))\n",
    "new_value = int(input(\"Enter new value: \"))\n",
    "a[row_index, col_index] = new_value\n",
    "print(\"\\nUpdated Matrix A:\")\n",
    "print(a)"
   ]
  },
  {
   "cell_type": "code",
   "execution_count": 9,
   "metadata": {},
   "outputs": [
    {
     "name": "stdout",
     "output_type": "stream",
     "text": [
      "\n",
      "Matrix after column update:\n",
      "[[-53 -91  45]\n",
      " [ 69  28  94]\n",
      " [ 59 -57 -84]]\n",
      "\n",
      "Matrix after adding vector to each row:\n",
      "[[-48 -86  48]\n",
      " [ 74  33  97]\n",
      " [ 64 -52 -81]]\n"
     ]
    }
   ],
   "source": [
    "# (7) Thay đổi giá trị của một cột theo điều kiện\n",
    "col_to_change = int(input(\"\\nEnter column index to increment by 2: \"))\n",
    "a[:, col_to_change] += 2\n",
    "print(\"\\nMatrix after column update:\")\n",
    "print(a)\n",
    "\n",
    "# (8) Thêm một vector vào từng hàng của ma trận\n",
    "vector = np.random.randint(-10, 11, M)  # Tạo vector ngẫu nhiên có cùng số cột với ma trận\n",
    "a_added_vector = a + vector\n",
    "print(\"\\nMatrix after adding vector to each row:\")\n",
    "print(a_added_vector)"
   ]
  },
  {
   "cell_type": "code",
   "execution_count": 10,
   "metadata": {},
   "outputs": [
    {
     "name": "stdout",
     "output_type": "stream",
     "text": [
      "\n",
      "Rank of the matrix: 3\n",
      "\n",
      "Matrix U:\n",
      "[[ 0.0435045   0.90716602  0.41851783]\n",
      " [-0.73266774 -0.25582392  0.63067591]\n",
      " [ 0.67919463 -0.33407175  0.65352178]]\n",
      "\n",
      "Singular values (S):\n",
      "[139.72696598 119.60502363  86.33083632]\n",
      "\n",
      "Matrix V:\n",
      "[[-0.09151655 -0.45222266 -0.88719749]\n",
      " [-0.71436701 -0.59088728  0.37487597]\n",
      " [ 0.69376112 -0.66809197  0.26897698]]\n"
     ]
    }
   ],
   "source": [
    "# (9) Tính hạng của ma trận\n",
    "rank = np.linalg.matrix_rank(a)\n",
    "print(\"\\nRank of the matrix:\", rank)\n",
    "\n",
    "# (10) Phân rã giá trị kỳ dị (SVD)\n",
    "U, S, V = np.linalg.svd(a)\n",
    "print(\"\\nMatrix U:\")\n",
    "print(U)\n",
    "print(\"\\nSingular values (S):\")\n",
    "print(S)\n",
    "print(\"\\nMatrix V:\")\n",
    "print(V)\n"
   ]
  }
 ],
 "metadata": {
  "kernelspec": {
   "display_name": "Python 3",
   "language": "python",
   "name": "python3"
  },
  "language_info": {
   "codemirror_mode": {
    "name": "ipython",
    "version": 3
   },
   "file_extension": ".py",
   "mimetype": "text/x-python",
   "name": "python",
   "nbconvert_exporter": "python",
   "pygments_lexer": "ipython3",
   "version": "3.12.4"
  }
 },
 "nbformat": 4,
 "nbformat_minor": 2
}
